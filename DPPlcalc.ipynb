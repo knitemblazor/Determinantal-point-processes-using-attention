{
 "cells": [
  {
   "cell_type": "code",
   "execution_count": 1,
   "metadata": {},
   "outputs": [
    {
     "data": {
      "text/plain": [
       "array([\"I like this log, but think it would work better with clearer AM & PM sections. Each page is 12 hours so you really need two pages a day if your baby feeds or wets a lot in the early morning hours between midnight and 7am. We're cramming those in to the 2 blank spaces above 7am right now.\",\n",
       "       'Needs clearer AM & PM'], dtype=object)"
      ]
     },
     "execution_count": 1,
     "metadata": {},
     "output_type": "execute_result"
    }
   ],
   "source": [
    "import pandas as pd\n",
    "import numpy as np\n",
    "import re\n",
    "from gensim.models import Word2Vec\n",
    "M= pd.read_csv(\"/home/her/Desktop/nlp/codes/reviews_Baby_5_final_dataset.csv\")\n",
    "df = pd.DataFrame(M)\n",
    "df1=df[\"reviewText\"]\n",
    "df2=df[\"summary\"]\n",
    "df3=pd.concat([df1,df2],axis=1)\n",
    "\n",
    "df3=np.array(df3)\n",
    "df3[2]"
   ]
  },
  {
   "cell_type": "code",
   "execution_count": 6,
   "metadata": {},
   "outputs": [],
   "source": [
    "df1=np.array(df1)\n",
    "df2=np.array(df2)\n",
    "sentence=[]\n",
    "for i in range(len(df1)):\n",
    "    a=re.sub(r'[\",''/?&*!1234567890:;[]]', ' ', df1[i])\n",
    "    sentence.append((a.lower()).split())\n",
    "for i in range(len(df2)):\n",
    "    a=re.sub(r'[\",''/?&*!1234567890]', ' ', df2[i])\n",
    "    sentence.append((a.lower()).split())\n",
    "# print(sentence)\n",
    "    "
   ]
  },
  {
   "cell_type": "code",
   "execution_count": 64,
   "metadata": {},
   "outputs": [
    {
     "name": "stdout",
     "output_type": "stream",
     "text": [
      "This book is perfect!  I'm a first time new mom, and this book made it so easy to keep track of feedings, diaper changes, sleep.  Definitely would recommend this for new moms.  Plus it's small enough that I throw in the diaper back for doctor visits.\n",
      "I use this so that our babysitter (grandma) can keep track of what goes on during the day.  We've recorded so many milestones since we received this.  It is a 6 month diary and has room for notes.  I wish the hours started around 6 am and went until 8 pm, but we just write over certain times to suit our purposes. The nice thing is that if we had a rough night and we are super tired, we have something to refer to if we forgot when we last fed the baby or when he woke up. I also like that the front page has a place for emergency comments and a consent form in case your child needs medical care.  It also has a place at the back of the book for immunizations.  I'll definitely get another one in 6 months when we finish this book.\n",
      "I like this log, but think it would work better with clearer AM & PM sections. Each page is 12 hours so you really need two pages a day if your baby feeds or wets a lot in the early morning hours between midnight and 7am. We're cramming those in to the 2 blank spaces above 7am right now.\n",
      "\u001b[K:\u001b[K and I have a six month old baby boy and around the 4-month mark my wife decided that she would return to work instead of being a stay-at-home mom. We hired an in-home nanny to care for our little boy and the arrangement has worked quite well ever since. Shortly after starting the arrangement we realized that we would need some sort of journal to track our little boy's activities while he w:\u001b[K\u0007"
     ]
    }
   ],
   "source": [
    "!cat /home/her/Desktop/nlp/codes/review.txt |less"
   ]
  },
  {
   "cell_type": "code",
   "execution_count": 10,
   "metadata": {},
   "outputs": [],
   "source": [
    "model = Word2Vec(sentence,size=30, min_count=1)"
   ]
  },
  {
   "cell_type": "code",
   "execution_count": 11,
   "metadata": {},
   "outputs": [
    {
     "name": "stdout",
     "output_type": "stream",
     "text": [
      "Word2Vec(vocab=194677, size=30, alpha=0.025)\n"
     ]
    }
   ],
   "source": [
    "print(model)\n",
    "words = list(model.wv.vocab)\n",
    "model.save(\"/home/her/DPP/word2vec.model\")\n",
    "# print((words))"
   ]
  },
  {
   "cell_type": "code",
   "execution_count": 12,
   "metadata": {},
   "outputs": [
    {
     "name": "stdout",
     "output_type": "stream",
     "text": [
      "total 81392\r\n",
      "-rw-r--r-- 1 her her    20632 Mar  6 00:51  DPPlcalc.ipynb\r\n",
      "-rw-r--r-- 1 her her     9265 Mar  6 00:17 'Python practice problems solns -nitish tom michael(Msc MI).ipynb'\r\n",
      "-rw-r--r-- 1 her her 83300947 Mar  6 00:51  word2vec.model\r\n"
     ]
    }
   ],
   "source": [
    "!ls -l /home/her/DPP"
   ]
  },
  {
   "cell_type": "code",
   "execution_count": null,
   "metadata": {},
   "outputs": [],
   "source": [
    "model = Word2Vec.load(\"/home/her/DPP/word2vec.model\")"
   ]
  },
  {
   "cell_type": "code",
   "execution_count": null,
   "metadata": {},
   "outputs": [],
   "source": [
    "class DPPpicard(object):\n",
    "    \n",
    "    def __init__(self,review,summary):\n",
    "        self.review=review\n",
    "        self.summary=summary\n",
    "        self.eta=eta\n",
    "    \n",
    "    def fixed_point_map(self):\n",
    "        feature=[]\n",
    "        W = np.array([[1]*dim]*dim)\n",
    "        Z = np.array([[0]*number]*number)\n",
    "        model = Word2Vec.load(\"/home/her/DPP/word2vec.model\")\n",
    "        for i in self.review:\n",
    "            words=i.split()\n",
    "            for k in words:\n",
    "                feature.append(model[k])\n",
    "        feature=np.array(feature)\n",
    "        L=np.matmul(np.matmul(feature,W),feature.transpose())\n",
    "        ly=[]\n",
    "        for i in subset:\n",
    "            a=[]\n",
    "            for j in subset:\n",
    "                a.append(L[i][j])\n",
    "            ly.append(a)\n",
    "        ly=np.array(ly)\n",
    "        lyinv=np.linalg.inv(ly)\n",
    "        b=[]\n",
    "        for i in range(len(subset)):\n",
    "            for j in range(len(subset)):\n",
    "                  b.append(lyinv[i][j])\n",
    "        start=0\n",
    "        stop=1\n",
    "        for i in subset:\n",
    "            for j in subset:\n",
    "                for k in range(start,stop):\n",
    "                    L[i][j]=b[k]\n",
    "                    start=start+1\n",
    "                    stop=stop+1\n",
    "                    break\n",
    "                    \n",
    "        \n",
    "        \n",
    "    "
   ]
  },
  {
   "cell_type": "code",
   "execution_count": 14,
   "metadata": {},
   "outputs": [
    {
     "name": "stdout",
     "output_type": "stream",
     "text": [
      "   categoryid  parentid\n",
      "0        1016     213.0\n",
      "1         809     169.0\n",
      "2         570       9.0\n",
      "3        1691     885.0\n",
      "4         536    1691.0\n"
     ]
    },
    {
     "data": {
      "image/png": "[encoded data removed]",
      "text/plain": [
       "<Figure size 432x288 with 1 Axes>"
      ]
     },
     "metadata": {
      "needs_background": "light"
     },
     "output_type": "display_data"
    },
    {
     "data": {
      "image/png": "[encoded data removed]",
      "text/plain": [
       "<Figure size 432x288 with 1 Axes>"
      ]
     },
     "metadata": {
      "needs_background": "light"
     },
     "output_type": "display_data"
    }
   ],
   "source": [
    "import pandas as pd\n",
    "import numpy as np\n",
    "import matplotlib.pyplot as plt\n",
    "M= pd.read_csv(\"/home/her/Desktop/nlp/codes/category_tree.csv\")\n",
    "df = pd.DataFrame(M)\n",
    "print(df[:5])\n",
    "df1=df[\"parentid\"]\n",
    "df2=df[\"categoryid\"]\n",
    "c=np.array(df1)\n",
    "d=np.array(df2)\n",
    "\n",
    "plt.hist(c)\n",
    "plt.show()\n",
    "plt.hist(d)\n",
    "plt.show()\n",
    "\n",
    "# df1=df[\"reviewText\"]\n",
    "# df2=df[\"summary\"]\n",
    "# df3=pd.concat([df1,df2],axis=1)\n",
    "# df3[:3]"
   ]
  },
  {
   "cell_type": "code",
   "execution_count": null,
   "metadata": {},
   "outputs": [],
   "source": [
    "class DPPpicard(object):\n",
    "    def __init__(self,review,summary):\n",
    "        self.review=review\n",
    "        self.summary=summary\n",
    "    def fixed_point_map(self):\n",
    "        \n",
    "    "
   ]
  }
 ],
 "metadata": {
  "kernelspec": {
   "display_name": "Python 3",
   "language": "python",
   "name": "python3"
  },
  "language_info": {
   "codemirror_mode": {
    "name": "ipython",
    "version": 3
   },
   "file_extension": ".py",
   "mimetype": "text/x-python",
   "name": "python",
   "nbconvert_exporter": "python",
   "pygments_lexer": "ipython3",
   "version": "3.6.7"
  }
 },
 "nbformat": 4,
 "nbformat_minor": 2
}
