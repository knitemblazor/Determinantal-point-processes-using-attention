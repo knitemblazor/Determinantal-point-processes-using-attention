{
  "nbformat": 4,
  "nbformat_minor": 0,
  "metadata": {
    "colab": {
      "name": "DPP.ipynb",
      "version": "0.3.2",
      "provenance": [],
      "collapsed_sections": []
    },
    "kernelspec": {
      "name": "python3",
      "display_name": "Python 3"
    }
  },
  "cells": [
    {
      "metadata": {
        "id": "GwMZgF3nncO_",
        "colab_type": "code",
        "colab": {}
      },
      "cell_type": "code",
      "source": [
        "import numpy as np\n",
        "selec=np.load('/content/gdrive/My Drive/aspect/selre.npy')"
      ],
      "execution_count": 0,
      "outputs": []
    },
    {
      "metadata": {
        "id": "0V3ORl7w95Ec",
        "colab_type": "code",
        "colab": {}
      },
      "cell_type": "code",
      "source": [
        "summaryselec=[]\n",
        "for i in selec:\n",
        "  summaryselec.append(summary[i])"
      ],
      "execution_count": 0,
      "outputs": []
    },
    {
      "metadata": {
        "id": "DJqW5xr8-SOp",
        "colab_type": "code",
        "outputId": "f8e058f9-add5-4284-f2d9-30f6a014f5e4",
        "colab": {
          "base_uri": "https://localhost:8080/",
          "height": 34
        }
      },
      "cell_type": "code",
      "source": [
        "print(len(summaryselec))\n",
        "np.save('/content/gdrive/My Drive/aspect/selsum.npy',summaryselec)"
      ],
      "execution_count": 0,
      "outputs": [
        {
          "output_type": "stream",
          "text": [
            "50992\n"
          ],
          "name": "stdout"
        }
      ]
    },
    {
      "metadata": {
        "id": "orSTL8hPdBhT",
        "colab_type": "code",
        "outputId": "eac36aea-c691-4aa6-fea3-0058ac9b9bf7",
        "colab": {
          "base_uri": "https://localhost:8080/",
          "height": 124
        }
      },
      "cell_type": "code",
      "source": [
        "from google.colab import drive\n",
        "drive.mount('/content/gdrive')"
      ],
      "execution_count": 1,
      "outputs": [
        {
          "output_type": "stream",
          "text": [
            "Go to this URL in a browser: https://accounts.google.com/o/oauth2/auth?client_id=947318989803-6bn6qk8qdgf4n4g3pfee6491hc0brc4i.apps.googleusercontent.com&redirect_uri=urn%3Aietf%3Awg%3Aoauth%3A2.0%3Aoob&scope=email%20https%3A%2F%2Fwww.googleapis.com%2Fauth%2Fdocs.test%20https%3A%2F%2Fwww.googleapis.com%2Fauth%2Fdrive%20https%3A%2F%2Fwww.googleapis.com%2Fauth%2Fdrive.photos.readonly%20https%3A%2F%2Fwww.googleapis.com%2Fauth%2Fpeopleapi.readonly&response_type=code\n",
            "\n",
            "Enter your authorization code:\n",
            "··········\n",
            "Mounted at /content/gdrive\n"
          ],
          "name": "stdout"
        }
      ]
    },
    {
      "metadata": {
        "id": "Ku_8Jpekcf6E",
        "colab_type": "code",
        "colab": {}
      },
      "cell_type": "code",
      "source": [
        "import numpy as np\n",
        "review=np.load('/content/gdrive/My Drive/aspect/reviewarr.npy')\n",
        "summary=np.load('/content/gdrive/My Drive/aspect/selsum.npy')"
      ],
      "execution_count": 0,
      "outputs": []
    },
    {
      "metadata": {
        "id": "lMaDyJR5ah_2",
        "colab_type": "code",
        "colab": {
          "base_uri": "https://localhost:8080/",
          "height": 243
        },
        "outputId": "0522aa96-95f7-4f37-ba53-9c9809498de9"
      },
      "cell_type": "code",
      "source": [
        "print(review[1])"
      ],
      "execution_count": 21,
      "outputs": [
        {
          "output_type": "stream",
          "text": [
            "[[-2.66787577 -3.19973183  3.91950107 ... -2.44194603  0.89270282\n",
            "  -4.99528885]\n",
            " [ 3.03271914  6.67877865  0.565938   ...  2.41184592  0.19005202\n",
            "  -2.13611221]\n",
            " [ 0.39845607  0.75915915  1.06776047 ... -1.11187232  0.02758104\n",
            "  -0.09620836]\n",
            " ...\n",
            " [ 0.          0.          0.         ...  0.          0.\n",
            "   0.        ]\n",
            " [ 0.          0.          0.         ...  0.          0.\n",
            "   0.        ]\n",
            " [ 0.          0.          0.         ...  0.          0.\n",
            "   0.        ]]\n"
          ],
          "name": "stdout"
        }
      ]
    },
    {
      "metadata": {
        "id": "akh2o-gI9uxN",
        "colab_type": "code",
        "outputId": "fa38e276-3f80-43bf-b1df-7a77c2ef8ea8",
        "colab": {
          "base_uri": "https://localhost:8080/",
          "height": 34
        }
      },
      "cell_type": "code",
      "source": [
        "print(len(review[1]),len(summary))"
      ],
      "execution_count": 41,
      "outputs": [
        {
          "output_type": "stream",
          "text": [
            "50 50992\n"
          ],
          "name": "stdout"
        }
      ]
    },
    {
      "metadata": {
        "id": "Bdk9kgqoPhnn",
        "colab_type": "code",
        "outputId": "48881e62-6ed1-45fe-d8a3-98bdc53a7cf3",
        "colab": {
          "base_uri": "https://localhost:8080/",
          "height": 52
        }
      },
      "cell_type": "code",
      "source": [
        "class summarise(object):\n",
        "  \n",
        "  \n",
        "  def __init__(self,review,summ):\n",
        "      self.review=review.reshape(50992,1400)\n",
        "      self.summ=summ.reshape(50992,1400)\n",
        "    \n",
        "  def attention(self):\n",
        "      I = np.array([[1]*1000]*5)\n",
        "      product=[]\n",
        "      a=[]\n",
        "      for i in range(5):\n",
        "          e_x = np.exp(np.matmul(self.summ[i],self.review[:1000].transpose()/np.sqrt(1400))) -(np.max(np.matmul(self.summ[i],self.review[:1000].transpose())/np.sqrt(1400)))\n",
        "          b = e_x / e_x.sum(axis=0)\n",
        "          a.append(b)\n",
        "      a=np.array(a)\n",
        "      product=a.reshape(5,1000)\n",
        "      self.product=(np.array(product)*10)\n",
        "      return(self.product)\n",
        "    \n",
        "  def row_wise_multiplier(self):\n",
        "      f=[]\n",
        "      d=[]\n",
        "      self.product=self.product.transpose()\n",
        "      for i in range(len(self.product[:,1])):\n",
        "        c=0\n",
        "        for j in range(len(self.product[1])):\n",
        "            c=c+self.product[i][j]\n",
        "        d.append(c)\n",
        "        self.d=d\n",
        "      d=np.array(d)\n",
        "      return(d)\n",
        "  \n",
        "  def mlpinput(self):\n",
        "      D=np.matmul(self.d,self.review[:1000])\n",
        "      return(D/np.linalg.norm(D))\n",
        "  \n",
        "  def similaritymatrix(self,indices):\n",
        "      phi=self.summ\n",
        "      beta=.5\n",
        "      L = np.array([[0]*1000]*5)\n",
        "      phi=phi[:5]\n",
        "      for i in range(len(phi)):\n",
        "        for j in range(len(phi)):\n",
        "          if(i!=j):\n",
        "            L[i][j]=np.exp(-beta*(np.linalg.norm((phi[i]-phi[j])))**2)\n",
        "          else:\n",
        "            L[i][j]=1\n",
        "  \n",
        "  def neuralnet(self):\n",
        "      model = tf.keras.models.Sequential([\n",
        "      tf.keras.layers.Flatten(),\n",
        "      tf.keras.layers.Dense(300, activation=tf.nn.relu),\n",
        "      tf.keras.layers.Dropout(0.3),\n",
        "      tf.keras.layers.Dense(100, activation=tf.nn.relu),\n",
        "      tf.keras.layers.Dropout(0.2),\n",
        "      tf.keras.layers.Dense(2, activation=tf.nn.softmax)\n",
        "      ])\n",
        "      model.compile(optimizer='adam',\n",
        "              loss='sparse_categorical_crossentropy',\n",
        "              metrics=['accuracy'])\n",
        "\n",
        "      model.fit(X_train, Y_train, epochs=10)\n",
        "      model.evaluate(X_test, Y_test)\n",
        "\n",
        "obj =summarise(review,summary)\n",
        "np.save('/content/gdrive/My Drive/aspect/2.npy',obj.attention())\n",
        "o=obj.attention()\n",
        "X=obj.row_wise_multiplier()\n",
        "Y=obj.mlpinput()\n",
        "\n",
        "print(Y)\n"
      ],
      "execution_count": 3,
      "outputs": [
        {
          "output_type": "stream",
          "text": [
            "[-0.0567959   0.01987271  0.11815062 ...  0.          0.\n",
            "  0.        ]\n"
          ],
          "name": "stdout"
        }
      ]
    }
  ]
}