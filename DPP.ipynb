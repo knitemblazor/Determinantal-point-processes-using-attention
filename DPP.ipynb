{
  "nbformat": 4,
  "nbformat_minor": 0,
  "metadata": {
    "colab": {
      "name": "DPP.ipynb",
      "version": "0.3.2",
      "provenance": [],
      "collapsed_sections": []
    },
    "kernelspec": {
      "name": "python3",
      "display_name": "Python 3"
    }
  },
  "cells": [
    {
      "metadata": {
        "id": "GwMZgF3nncO_",
        "colab_type": "code",
        "colab": {}
      },
      "cell_type": "code",
      "source": [
        "import numpy as np\n",
        "selec=np.load('/content/gdrive/My Drive/aspect/selre.npy')"
      ],
      "execution_count": 0,
      "outputs": []
    },
    {
      "metadata": {
        "id": "0V3ORl7w95Ec",
        "colab_type": "code",
        "colab": {}
      },
      "cell_type": "code",
      "source": [
        "summaryselec=[]\n",
        "for i in selec:\n",
        "  summaryselec.append(summary[i])"
      ],
      "execution_count": 0,
      "outputs": []
    },
    {
      "metadata": {
        "id": "DJqW5xr8-SOp",
        "colab_type": "code",
        "outputId": "f8e058f9-add5-4284-f2d9-30f6a014f5e4",
        "colab": {
          "base_uri": "https://localhost:8080/",
          "height": 34
        }
      },
      "cell_type": "code",
      "source": [
        "print(len(summaryselec))\n",
        "np.save('/content/gdrive/My Drive/aspect/selsum.npy',summaryselec)"
      ],
      "execution_count": 0,
      "outputs": [
        {
          "output_type": "stream",
          "text": [
            "50992\n"
          ],
          "name": "stdout"
        }
      ]
    },
    {
      "metadata": {
        "id": "orSTL8hPdBhT",
        "colab_type": "code",
        "outputId": "a33173b4-8cb5-40ba-ade9-eeaf53d40ad3",
        "colab": {
          "base_uri": "https://localhost:8080/",
          "height": 124
        }
      },
      "cell_type": "code",
      "source": [
        "from google.colab import drive\n",
        "drive.mount('/content/gdrive')"
      ],
      "execution_count": 3,
      "outputs": [
        {
          "output_type": "stream",
          "text": [
            "Go to this URL in a browser: https://accounts.google.com/o/oauth2/auth?client_id=947318989803-6bn6qk8qdgf4n4g3pfee6491hc0brc4i.apps.googleusercontent.com&redirect_uri=urn%3Aietf%3Awg%3Aoauth%3A2.0%3Aoob&scope=email%20https%3A%2F%2Fwww.googleapis.com%2Fauth%2Fdocs.test%20https%3A%2F%2Fwww.googleapis.com%2Fauth%2Fdrive%20https%3A%2F%2Fwww.googleapis.com%2Fauth%2Fdrive.photos.readonly%20https%3A%2F%2Fwww.googleapis.com%2Fauth%2Fpeopleapi.readonly&response_type=code\n",
            "\n",
            "Enter your authorization code:\n",
            "··········\n",
            "Mounted at /content/gdrive\n"
          ],
          "name": "stdout"
        }
      ]
    },
    {
      "metadata": {
        "id": "Ku_8Jpekcf6E",
        "colab_type": "code",
        "colab": {}
      },
      "cell_type": "code",
      "source": [
        "import numpy as np\n",
        "review=np.load('/content/gdrive/My Drive/aspect/reviewarr.npy')\n",
        "summary=np.load('/content/gdrive/My Drive/aspect/selsum.npy')"
      ],
      "execution_count": 0,
      "outputs": []
    },
    {
      "metadata": {
        "id": "lMaDyJR5ah_2",
        "colab_type": "code",
        "colab": {
          "base_uri": "https://localhost:8080/",
          "height": 243
        },
        "outputId": "0522aa96-95f7-4f37-ba53-9c9809498de9"
      },
      "cell_type": "code",
      "source": [
        "print(review[1])"
      ],
      "execution_count": 21,
      "outputs": [
        {
          "output_type": "stream",
          "text": [
            "[[-2.66787577 -3.19973183  3.91950107 ... -2.44194603  0.89270282\n",
            "  -4.99528885]\n",
            " [ 3.03271914  6.67877865  0.565938   ...  2.41184592  0.19005202\n",
            "  -2.13611221]\n",
            " [ 0.39845607  0.75915915  1.06776047 ... -1.11187232  0.02758104\n",
            "  -0.09620836]\n",
            " ...\n",
            " [ 0.          0.          0.         ...  0.          0.\n",
            "   0.        ]\n",
            " [ 0.          0.          0.         ...  0.          0.\n",
            "   0.        ]\n",
            " [ 0.          0.          0.         ...  0.          0.\n",
            "   0.        ]]\n"
          ],
          "name": "stdout"
        }
      ]
    },
    {
      "metadata": {
        "id": "akh2o-gI9uxN",
        "colab_type": "code",
        "outputId": "fa38e276-3f80-43bf-b1df-7a77c2ef8ea8",
        "colab": {
          "base_uri": "https://localhost:8080/",
          "height": 34
        }
      },
      "cell_type": "code",
      "source": [
        "print(len(review[1]),len(summary))"
      ],
      "execution_count": 41,
      "outputs": [
        {
          "output_type": "stream",
          "text": [
            "50 50992\n"
          ],
          "name": "stdout"
        }
      ]
    },
    {
      "metadata": {
        "id": "i8k-6tgmJ9dG",
        "colab_type": "code",
        "colab": {}
      },
      "cell_type": "code",
      "source": [
        "class summarise(object):\n",
        "  \n",
        "  \n",
        "  def __init__(self,review,summ):\n",
        "      self.summ=summ[:5].reshape(5,50,28)\n",
        "      self.rev1=review[1].reshape(50,28)\n",
        "  def attention(self):\n",
        "      I = np.array([[1]*1000]*5)\n",
        "      product=[]\n",
        "      a=[]\n",
        "      for i in range(5):\n",
        "          e_x = np.exp(np.matmul(self.summ[i],self.rev1.transpose()/np.sqrt(28))) -(np.max(np.matmul(self.summ[i],self.rev1.transpose())/np.sqrt(28)))\n",
        "          b = e_x / e_x.sum(axis=0)\n",
        "          a.append(b)\n",
        "      a=np.array(a)\n",
        "      product=a.reshape(5,50,28)\n",
        "      self.product=(np.array(product)*10)\n",
        "      return(self.product)\n",
        "    \n",
        "  def row_wise_multiplier(self):\n",
        "      f=[]\n",
        "      d=[]\n",
        "      self.product=self.product.transpose()\n",
        "      for i in range(len(self.product[:,1])):\n",
        "        c=0\n",
        "        for j in range(len(self.product[1])):\n",
        "            c=c+self.product[i][j]\n",
        "        d.append(c)\n",
        "        self.d=d\n",
        "      d=np.array(d)\n",
        "      return(d)\n",
        "  \n",
        "  def mlpinput(self):\n",
        "      D=np.matmul(self.d,self.review[:1000])\n",
        "      return(D/np.linalg.norm(D))\n",
        "  \n",
        "  def similaritymatrix(self,indices):\n",
        "      phi=self.summ\n",
        "      beta=.5\n",
        "      L = np.array([[0]*1000]*5)\n",
        "      phi=phi[:5]\n",
        "      for i in range(len(phi)):\n",
        "        for j in range(len(phi)):\n",
        "          if(i!=j):\n",
        "            L[i][j]=np.exp(-beta*(np.linalg.norm((phi[i]-phi[j])))**2)\n",
        "          else:\n",
        "            L[i][j]=1\n",
        "            \n",
        "      e_x = np.exp(self.review[:1000]) - (np.max(self.review[:1000]))\n",
        "      R = e_x / e_x.sum(axis=0)\n",
        "      I = np.array([[0]*1000]*5)\n",
        "      for i in range(len(phi)):\n",
        "        for j in range(len(phi)):\n",
        "            if(i==j):\n",
        "              I[i][j]=1\n",
        "      probab=np.linalg.det(L)/np.linalg.det(R+I)\n",
        "  \n",
        "#   def GRU(self):\n",
        "      \n",
        "\n",
        "obj =summarise(review,summary)\n",
        "np.save('/content/gdrive/My Drive/aspect/2.npy',obj.attention())\n",
        "o=obj.attention()\n",
        "X=obj.row_wise_multiplier()\n",
        "Y=obj.mlpinput()\n",
        "\n",
        "print(Y)\n"
      ],
      "execution_count": 0,
      "outputs": []
    },
    {
      "metadata": {
        "id": "Bdk9kgqoPhnn",
        "colab_type": "code",
        "outputId": "6d9619ab-100e-4088-a8ad-9df95fcc7a60",
        "colab": {
          "base_uri": "https://localhost:8080/",
          "height": 260
        }
      },
      "cell_type": "code",
      "source": [
        "class summarise(object):\n",
        "  \n",
        "  \n",
        "  def __init__(self,review,summ):\n",
        "      self.review=review.reshape(50992,1400)\n",
        "      self.summ=summ.reshape(50992,1400)\n",
        "    \n",
        "  def attention(self):\n",
        "      I = np.array([[1]*100]*5)\n",
        "      product=[]\n",
        "      a=[]\n",
        "      for i in range(5):\n",
        "          e_x = np.exp(np.matmul(self.summ[i],self.review[:100].transpose()/np.sqrt(1400))) -(np.max(np.matmul(self.summ[i],self.review[:100].transpose())/np.sqrt(1400)))\n",
        "          b = e_x / e_x.sum(axis=0)\n",
        "          a.append(b)\n",
        "      a=np.array(a)\n",
        "      product=a.reshape(5,100)\n",
        "      self.product=(np.array(product)*10)\n",
        "      return(self.product)\n",
        "    \n",
        "  def row_wise_multiplier(self):\n",
        "      f=[]\n",
        "      d=[]\n",
        "      self.product=self.product.transpose()\n",
        "      for i in range(len(self.product[:,1])):\n",
        "        c=0\n",
        "        for j in range(len(self.product[1])):\n",
        "            c=c+self.product[i][j]\n",
        "        d.append(c)\n",
        "        self.d=d\n",
        "      d=np.array(d)\n",
        "      return(d)\n",
        "  \n",
        "  def mlpinput(self):\n",
        "      G=[]\n",
        "      H=self.review[:100].transpose()\n",
        "      for i in range(1400):\n",
        "        D=np.multiply(self.d,H[i])\n",
        "        D=D/np.linalg.norm(D)\n",
        "        G.append(D)\n",
        "      G=np.array(G)\n",
        "      return(G)\n",
        "  \n",
        "  def similaritymatrix(self,indices):\n",
        "      phi=self.summ\n",
        "      beta=.5\n",
        "      L = np.array([[0]*100]*5)\n",
        "      phi=phi[:5]\n",
        "      for i in range(len(phi)):\n",
        "        for j in range(len(phi)):\n",
        "          if(i!=j):\n",
        "            L[i][j]=np.exp(-beta*(np.linalg.norm((phi[i]-phi[j])))**2)\n",
        "          else:\n",
        "            L[i][j]=1\n",
        "            \n",
        "      e_x = np.exp(self.review[:100]) - (np.max(self.review[:100]))\n",
        "      R = e_x / e_x.sum(axis=0)\n",
        "      I = np.array([[0]*100]*5)\n",
        "      for i in range(len(phi)):\n",
        "        for j in range(len(phi)):\n",
        "            if(i==j):\n",
        "              I[i][j]=1\n",
        "      probab=np.linalg.det(L)/np.linalg.det(R+I)\n",
        "  \n",
        "#   def GRU(self):\n",
        "      \n",
        "\n",
        "obj =summarise(review,summary)\n",
        "np.save('/content/gdrive/My Drive/aspect/2.npy',obj.attention())\n",
        "o=obj.attention()\n",
        "X=obj.row_wise_multiplier()\n",
        "Y=obj.mlpinput()\n",
        "\n",
        "print()\n"
      ],
      "execution_count": 25,
      "outputs": [
        {
          "output_type": "stream",
          "text": [
            "[[-0.03043513 -0.07817627 -0.07487593 ... -0.01244508 -0.02355269\n",
            "  -0.06204965]\n",
            " [-0.01262372 -0.1089753  -0.13781762 ... -0.00548682  0.00076866\n",
            "   0.00202505]\n",
            " [ 0.01351247  0.04946206 -0.00296832 ...  0.0206094   0.01113793\n",
            "   0.0293429 ]\n",
            " ...\n",
            " [        nan         nan         nan ...         nan         nan\n",
            "          nan]\n",
            " [        nan         nan         nan ...         nan         nan\n",
            "          nan]\n",
            " [        nan         nan         nan ...         nan         nan\n",
            "          nan]]\n"
          ],
          "name": "stdout"
        },
        {
          "output_type": "stream",
          "text": [
            "/usr/local/lib/python3.6/dist-packages/ipykernel_launcher.py:39: RuntimeWarning: invalid value encountered in true_divide\n"
          ],
          "name": "stderr"
        }
      ]
    }
  ]
}